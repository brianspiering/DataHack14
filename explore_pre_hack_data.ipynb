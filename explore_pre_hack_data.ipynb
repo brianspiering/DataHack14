{
 "metadata": {
  "name": "",
  "signature": "sha256:78dadd4f3f1d754e1faf8eee5b91648092e7840e81ee99b962b2452f31475b60"
 },
 "nbformat": 3,
 "nbformat_minor": 0,
 "worksheets": [
  {
   "cells": [
    {
     "cell_type": "code",
     "collapsed": false,
     "input": [
      "reset"
     ],
     "language": "python",
     "metadata": {},
     "outputs": [
      {
       "name": "stdout",
       "output_type": "stream",
       "stream": "stdout",
       "text": [
        "Once deleted, variables cannot be recovered. Proceed (y/[n])? y\n"
       ]
      }
     ],
     "prompt_number": 27
    },
    {
     "cell_type": "code",
     "collapsed": false,
     "input": [
      "# Load packages and modules\n",
      "import random\n",
      "# import plotly\n",
      "import numpy as np\n",
      "import matplotlib.pyplot as plt\n",
      "import pylab as pl\n",
      "import pandas as pd\n",
      "from pandas import DataFrame\n",
      "from sklearn import metrics, tree, ensemble, linear_model, feature_selection\n",
      "from sklearn.svm import SVR\n",
      "\n",
      "%matplotlib inline"
     ],
     "language": "python",
     "metadata": {},
     "outputs": [],
     "prompt_number": 1
    },
    {
     "cell_type": "code",
     "collapsed": false,
     "input": [
      "# Load data\n",
      "current_type = \"ip_transit\"\n",
      "data_files = {\"ip_transit\": [\"IPT_Customer_Information\", \"IPT_Qos_Performance\", \"IPT_Traffic\"],\n",
      "             \"mobility\" : [\"Mobility_Signaling_Operator_Traffic\", \"Mobility_Signaling_Peering_Traffic\"],\n",
      "             \"voice\" : [\"Hackathon_CDR_Sample\", \"Voice_CDR\"]}\n",
      "\n",
      "path = \"./data/\"+current_type+\"/\"+data_files[current_type][2]\n",
      "\n",
      "try:\n",
      "    df = pd.read_csv(path+\".csv\")\n",
      "except:\n",
      "    df = pd.read_excel(path+\".xlsx\", 'Sheet1', index_col=None, na_values=['NA'])\n",
      "\n",
      "if df.shape[1] > 1:\n",
      "    print(df.head())\n",
      "else:\n",
      "    print('Check the formating of csv headers.')\n",
      "    print(df.columns[0])\n",
      "    # try pd.read_csv('a', dtype=object, index_col=0)"
     ],
     "language": "python",
     "metadata": {},
     "outputs": [
      {
       "output_type": "stream",
       "stream": "stdout",
       "text": [
        "   CUSTOMER_ID CIRCUT_DESIGNATION  SPEED(Mpbs)  MINIMUM_COMMITMENT(Mbps)\n",
        "0        19829        B5S-DVS-NP2         1000                       500\n"
       ]
      }
     ],
     "prompt_number": 8
    },
    {
     "cell_type": "code",
     "collapsed": false,
     "input": [
      "# Reformat df column names\n",
      "col_names = map(str.lower, list(df.columns.values)) # Make lower case\n",
      "col_names = map(str.strip, list(col_names)) # Remove white spaces\n",
      "sub_string = '('\n",
      "col_names = [name[:name.index(sub_string)] if name.find(sub_string) > 0 else name for name in col_names] # Remove substring\n",
      "df.columns = [col_names]\n",
      "df.head()"
     ],
     "language": "python",
     "metadata": {},
     "outputs": [
      {
       "html": [
        "<div style=\"max-height:1000px;max-width:1500px;overflow:auto;\">\n",
        "<table border=\"1\" class=\"dataframe\">\n",
        "  <thead>\n",
        "    <tr style=\"text-align: right;\">\n",
        "      <th></th>\n",
        "      <th>customer_id</th>\n",
        "      <th>circut_designation</th>\n",
        "      <th>speed</th>\n",
        "      <th>minimum_commitment</th>\n",
        "    </tr>\n",
        "  </thead>\n",
        "  <tbody>\n",
        "    <tr>\n",
        "      <th>0</th>\n",
        "      <td> 19829</td>\n",
        "      <td> B5S-DVS-NP2</td>\n",
        "      <td> 1000</td>\n",
        "      <td> 500</td>\n",
        "    </tr>\n",
        "  </tbody>\n",
        "</table>\n",
        "</div>"
       ],
       "metadata": {},
       "output_type": "pyout",
       "prompt_number": 9,
       "text": [
        "   customer_id circut_designation  speed  minimum_commitment\n",
        "0        19829        B5S-DVS-NP2   1000                 500"
       ]
      }
     ],
     "prompt_number": 9
    },
    {
     "cell_type": "code",
     "collapsed": false,
     "input": [
      "# df.describe()"
     ],
     "language": "python",
     "metadata": {},
     "outputs": []
    },
    {
     "cell_type": "code",
     "collapsed": false,
     "input": [
      "# Convert N & Y to Booleans"
     ],
     "language": "python",
     "metadata": {},
     "outputs": []
    },
    {
     "cell_type": "code",
     "collapsed": false,
     "input": [],
     "language": "python",
     "metadata": {},
     "outputs": []
    }
   ],
   "metadata": {}
  }
 ]
}