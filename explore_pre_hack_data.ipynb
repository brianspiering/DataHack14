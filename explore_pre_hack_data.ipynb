{
 "metadata": {
  "name": "",
  "signature": "sha256:bcb4c652cd8af2d9d3f321756aba384c0b32c4c9a9b577cabb33c958ba1045e2"
 },
 "nbformat": 3,
 "nbformat_minor": 0,
 "worksheets": [
  {
   "cells": [
    {
     "cell_type": "code",
     "collapsed": false,
     "input": [
      "reset"
     ],
     "language": "python",
     "metadata": {},
     "outputs": [
      {
       "name": "stdout",
       "output_type": "stream",
       "stream": "stdout",
       "text": [
        "Once deleted, variables cannot be recovered. Proceed (y/[n])? y\n"
       ]
      }
     ],
     "prompt_number": 37
    },
    {
     "cell_type": "code",
     "collapsed": false,
     "input": [
      "# Load packages and modules\n",
      "import random\n",
      "# import plotly\n",
      "import numpy as np\n",
      "import matplotlib.pyplot as plt\n",
      "import pylab as pl\n",
      "import pandas as pd\n",
      "from pandas import DataFrame\n",
      "from sklearn import metrics, tree, ensemble, linear_model, feature_selection\n",
      "from sklearn.svm import SVR\n",
      "\n",
      "%matplotlib inline"
     ],
     "language": "python",
     "metadata": {},
     "outputs": [],
     "prompt_number": 38
    },
    {
     "cell_type": "code",
     "collapsed": false,
     "input": [
      "# Load data\n",
      "current_type = \"ip_transit\"\n",
      "data_files = {\"ip_transit\": [\"IPT_Customer_Information\", \"IPT_Qos_Performance\", \"IPT_Traffic\"],\n",
      "             \"mobility\" : [\"Mobility_Signaling_Operator_Traffic\", \"Mobility_Signaling_Peering_Traffic\"],\n",
      "             \"voice\" : [\"Hackathon_CDR_Sample\", \"Voice_CDR\"]}\n",
      "path = \"./data/\"+current_type+\"/\"+data_files[current_type][0]\n",
      "\n",
      "try:\n",
      "    df = pd.read_csv(path+\".csv\")\n",
      "except:\n",
      "    # TODO: handle .xlsx file\n",
      "    pass\n",
      "\n",
      "if len(df):\n",
      "    print('Check csv formating:')\n",
      "df.head()\n",
      "# df.describe()"
     ],
     "language": "python",
     "metadata": {},
     "outputs": [
      {
       "output_type": "stream",
       "stream": "stdout",
       "text": [
        "Check csv formating\n"
       ]
      },
      {
       "html": [
        "<div style=\"max-height:1000px;max-width:1500px;overflow:auto;\">\n",
        "<table border=\"1\" class=\"dataframe\">\n",
        "  <thead>\n",
        "    <tr style=\"text-align: right;\">\n",
        "      <th></th>\n",
        "      <th>CUSTOMER_ID,\"CIRCUIT_DESIGNATION\",\"ROUTER_NAME\",\"PORT\",\"POP\",\"COUNTRY\"</th>\n",
        "    </tr>\n",
        "  </thead>\n",
        "  <tbody>\n",
        "    <tr>\n",
        "      <th>0</th>\n",
        "      <td> 12719,\"GM2-SVQ-NP4\",\"gin-svq-tcore1\",\"xe-2/1/2...</td>\n",
        "    </tr>\n",
        "  </tbody>\n",
        "</table>\n",
        "</div>"
       ],
       "metadata": {},
       "output_type": "pyout",
       "prompt_number": 48,
       "text": [
        "  CUSTOMER_ID,\"CIRCUIT_DESIGNATION\",\"ROUTER_NAME\",\"PORT\",\"POP\",\"COUNTRY\"\n",
        "0  12719,\"GM2-SVQ-NP4\",\"gin-svq-tcore1\",\"xe-2/1/2...                    "
       ]
      }
     ],
     "prompt_number": 48
    },
    {
     "cell_type": "code",
     "collapsed": false,
     "input": [
      "# Reformat df column names\n",
      "col_names = map(str.lower, list(df.columns.values)) # Make lower case\n",
      "col_names = map(str.strip, list(col_names)) # Remove white spaces\n",
      "sub_string = '('\n",
      "col_names = [name[:name.index(sub_string)] if name.find(sub_string) > 0 else name for name in col_names] # Remove substring\n",
      "df.columns = [col_names]\n",
      "df.head()"
     ],
     "language": "python",
     "metadata": {},
     "outputs": [
      {
       "html": [
        "<div style=\"max-height:1000px;max-width:1500px;overflow:auto;\">\n",
        "<table border=\"1\" class=\"dataframe\">\n",
        "  <thead>\n",
        "    <tr style=\"text-align: right;\">\n",
        "      <th></th>\n",
        "      <th>traffic_month</th>\n",
        "      <th>peering_customer_id</th>\n",
        "      <th>origination_network_id</th>\n",
        "      <th>origination_country</th>\n",
        "      <th>destination_network_id</th>\n",
        "      <th>destination_country</th>\n",
        "      <th>outbound_messages</th>\n",
        "      <th>inbound_messages</th>\n",
        "    </tr>\n",
        "  </thead>\n",
        "  <tbody>\n",
        "    <tr>\n",
        "      <th>0</th>\n",
        "      <td> May-2014</td>\n",
        "      <td> iVMU</td>\n",
        "      <td> 4_4_229_0</td>\n",
        "      <td> SWEDEN</td>\n",
        "      <td> 4_5_176_0</td>\n",
        "      <td> INDIA</td>\n",
        "      <td> 896</td>\n",
        "      <td> 20</td>\n",
        "    </tr>\n",
        "  </tbody>\n",
        "</table>\n",
        "</div>"
       ],
       "metadata": {},
       "output_type": "pyout",
       "prompt_number": 42,
       "text": [
        "  traffic_month peering_customer_id origination_network_id  \\\n",
        "0      May-2014                iVMU              4_4_229_0   \n",
        "\n",
        "  origination_country destination_network_id destination_country  \\\n",
        "0              SWEDEN              4_5_176_0               INDIA   \n",
        "\n",
        "   outbound_messages  inbound_messages  \n",
        "0                896                20  "
       ]
      }
     ],
     "prompt_number": 42
    },
    {
     "cell_type": "code",
     "collapsed": false,
     "input": [
      "# Convert N & Y to Booleans"
     ],
     "language": "python",
     "metadata": {},
     "outputs": []
    },
    {
     "cell_type": "code",
     "collapsed": false,
     "input": [],
     "language": "python",
     "metadata": {},
     "outputs": []
    }
   ],
   "metadata": {}
  }
 ]
}